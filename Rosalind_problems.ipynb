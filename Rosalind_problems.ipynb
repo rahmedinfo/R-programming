{
 "cells": [
  {
   "cell_type": "markdown",
   "id": "e7c765c8",
   "metadata": {},
   "source": [
    "#### Validate DNA Sequences"
   ]
  },
  {
   "cell_type": "code",
   "execution_count": 136,
   "id": "2d25200c",
   "metadata": {},
   "outputs": [],
   "source": [
    "# Create a module "
   ]
  },
  {
   "cell_type": "code",
   "execution_count": 1,
   "id": "9a76f0e4",
   "metadata": {},
   "outputs": [
    {
     "name": "stdout",
     "output_type": "stream",
     "text": [
      "Overwriting DNAToolkit.py\n"
     ]
    }
   ],
   "source": [
    "%%writefile DNAToolkit.py\n",
    "\n",
    "Nucleotides = [\"A\", \"C\", \"G\", \"T\"]\n",
    "\n",
    "# check the sequence to make sure it is a DNA string\n",
    "def validateSeq (dna_seq):\n",
    "    tmpseq = dna_seq.upper()\n",
    "    for nuc in tmpseq:\n",
    "        if nuc not in Nucleotides:\n",
    "            return False\n",
    "    return tmpseq\n",
    "\n",
    "\n",
    "#def countNucFrequency(seq):\n",
    "    tmpFreqDict = {\"A\": 0, \"C\": 0, \"G\": 0, \"T\": 0}\n",
    "    for nuc in seq:\n",
    "        tmpFreqDict[nuc] += 1\n",
    "    return tmpFreqDict\n",
    "\n",
    "import collections\n",
    "\n",
    "def countNucFrequency(seq):\n",
    "    return dict(collections.Counter(seq))"
   ]
  },
  {
   "cell_type": "code",
   "execution_count": 138,
   "id": "d3d9c128",
   "metadata": {},
   "outputs": [],
   "source": [
    "from DNAToolkit import *"
   ]
  },
  {
   "cell_type": "code",
   "execution_count": 139,
   "id": "9165694e",
   "metadata": {},
   "outputs": [],
   "source": [
    "rndDNAStr = \"ATTTCGT\""
   ]
  },
  {
   "cell_type": "code",
   "execution_count": 140,
   "id": "51c16a6d",
   "metadata": {
    "scrolled": true
   },
   "outputs": [
    {
     "name": "stdout",
     "output_type": "stream",
     "text": [
      "ATTTCGT\n"
     ]
    }
   ],
   "source": [
    "print(validateSeq(rndDNAStr))"
   ]
  },
  {
   "cell_type": "code",
   "execution_count": 141,
   "id": "dabf6713",
   "metadata": {},
   "outputs": [],
   "source": [
    "rndDNAStr = \"ATTTCGTX\""
   ]
  },
  {
   "cell_type": "code",
   "execution_count": 142,
   "id": "3b3c0e3f",
   "metadata": {},
   "outputs": [
    {
     "name": "stdout",
     "output_type": "stream",
     "text": [
      "False\n"
     ]
    }
   ],
   "source": [
    "print(validateSeq(rndDNAStr))"
   ]
  },
  {
   "cell_type": "code",
   "execution_count": 143,
   "id": "1b818874",
   "metadata": {},
   "outputs": [],
   "source": [
    "import random"
   ]
  },
  {
   "cell_type": "code",
   "execution_count": 144,
   "id": "78385b09",
   "metadata": {},
   "outputs": [],
   "source": [
    "# Creating a random DNA sequence for testing\n",
    "randDNAstr = ''.join(random.choice(Nucleotides)\n",
    "                    for nuc in range(50))\n"
   ]
  },
  {
   "cell_type": "code",
   "execution_count": 145,
   "id": "2cdb1e46",
   "metadata": {},
   "outputs": [],
   "source": [
    "DNAStr = validateSeq(randDNAstr)"
   ]
  },
  {
   "cell_type": "code",
   "execution_count": 146,
   "id": "a372a0fd",
   "metadata": {},
   "outputs": [
    {
     "name": "stdout",
     "output_type": "stream",
     "text": [
      "TTCGCGAGTAACGTAGGCGAGGGTCATTAGAAATATGTCAATATTCTGGA\n"
     ]
    }
   ],
   "source": [
    "print(validateSeq(DNAStr))"
   ]
  },
  {
   "cell_type": "code",
   "execution_count": 147,
   "id": "3937f4c4",
   "metadata": {},
   "outputs": [
    {
     "name": "stdout",
     "output_type": "stream",
     "text": [
      "{'A': 15, 'C': 7, 'G': 14, 'T': 14}\n"
     ]
    }
   ],
   "source": [
    "print(countNucFrequency(DNAStr))"
   ]
  },
  {
   "cell_type": "code",
   "execution_count": 5,
   "id": "c36e24b4",
   "metadata": {},
   "outputs": [],
   "source": [
    "# ChatGPT mathod 1 to validate DNA seq\n",
    "def is_valid_dna_sequence(sequence):\n",
    "    \"\"\"\n",
    "    Check if a given sequence is a valid DNA sequence.\n",
    "\n",
    "    Args:\n",
    "    sequence (str): The sequence to be validated.\n",
    "\n",
    "    Returns:\n",
    "    bool: True if the sequence is a valid DNA sequence, False otherwise.\n",
    "    \"\"\"\n",
    "    # Define a set of valid DNA bases\n",
    "    valid_bases = set(\"ATCG\")\n",
    "\n",
    "    # Check if the sequence contains only valid bases and is not empty\n",
    "    return all(base in valid_bases for base in sequence)"
   ]
  },
  {
   "cell_type": "code",
   "execution_count": 6,
   "id": "54ed9c46",
   "metadata": {},
   "outputs": [
    {
     "name": "stdout",
     "output_type": "stream",
     "text": [
      "True\n"
     ]
    }
   ],
   "source": [
    "# Example usage:\n",
    "dna_sequence = \"ATGCTAGCTA\"\n",
    "result = is_valid_dna_sequence(dna_sequence)\n",
    "print(result)  # Output: True\n"
   ]
  },
  {
   "cell_type": "code",
   "execution_count": 7,
   "id": "de8f7933",
   "metadata": {},
   "outputs": [
    {
     "name": "stdout",
     "output_type": "stream",
     "text": [
      "False\n"
     ]
    }
   ],
   "source": [
    "\n",
    "invalid_sequence = \"ATGCTATkA\"\n",
    "result = is_valid_dna_sequence(invalid_sequence)\n",
    "print(result)  # Output: False"
   ]
  },
  {
   "cell_type": "code",
   "execution_count": 8,
   "id": "05c0400f",
   "metadata": {},
   "outputs": [],
   "source": [
    "# ChatGPT method 2 to validate DNA seq \n",
    "import re\n",
    "\n",
    "def is_valid_dna_sequence(sequence):\n",
    "    \"\"\"\n",
    "    Check if a given sequence is a valid DNA sequence using regular expressions.\n",
    "\n",
    "    Args:\n",
    "    sequence (str): The sequence to be validated.\n",
    "\n",
    "    Returns:\n",
    "    bool: True if the sequence is a valid DNA sequence, False otherwise.\n",
    "    \"\"\"\n",
    "    # Define a regular expression pattern for valid DNA sequences\n",
    "    pattern = re.compile(r\"^[ATCG]+$\")\n",
    "\n",
    "    # Use the regular expression to match the sequence\n",
    "    return bool(pattern.match(sequence))\n"
   ]
  },
  {
   "cell_type": "code",
   "execution_count": 9,
   "id": "b479ae85",
   "metadata": {},
   "outputs": [
    {
     "name": "stdout",
     "output_type": "stream",
     "text": [
      "True\n"
     ]
    }
   ],
   "source": [
    "# Example usage:\n",
    "dna_sequence = \"ATGCTAGCTA\"\n",
    "result = is_valid_dna_sequence(dna_sequence)\n",
    "print(result)  # Output: True"
   ]
  },
  {
   "cell_type": "code",
   "execution_count": 10,
   "id": "57112fb1",
   "metadata": {},
   "outputs": [
    {
     "name": "stdout",
     "output_type": "stream",
     "text": [
      "False\n"
     ]
    }
   ],
   "source": [
    "invalid_sequence = \"ATGCTAGZTA\"\n",
    "result = is_valid_dna_sequence(invalid_sequence)\n",
    "print(result)  # Output: False"
   ]
  },
  {
   "cell_type": "markdown",
   "id": "47b85f3c",
   "metadata": {},
   "source": [
    "#### Find out the position of invalid bases in DNA sequence"
   ]
  },
  {
   "cell_type": "code",
   "execution_count": 11,
   "id": "da965714",
   "metadata": {},
   "outputs": [],
   "source": [
    "import re\n",
    "\n",
    "def find_invalid_bases(sequence):\n",
    "    \"\"\"\n",
    "    Find the positions of invalid bases in a DNA sequence using regular expressions.\n",
    "\n",
    "    Args:\n",
    "    sequence (str): The sequence to be checked for invalid bases.\n",
    "\n",
    "    Returns:\n",
    "    list: A list of tuples containing the position and the invalid base.\n",
    "    \"\"\"\n",
    "    # Define a regular expression pattern for invalid bases\n",
    "    pattern = re.compile(r\"[^ATCG]\")\n",
    "\n",
    "    # Find all matches of the pattern in the sequence\n",
    "    invalid_matches = pattern.finditer(sequence)\n",
    "\n",
    "    # Extract positions and invalid bases\n",
    "    invalid_positions = [(match.start(), match.group()) for match in invalid_matches]\n",
    "\n",
    "    return invalid_positions\n"
   ]
  },
  {
   "cell_type": "code",
   "execution_count": 12,
   "id": "54aab2e8",
   "metadata": {},
   "outputs": [
    {
     "name": "stdout",
     "output_type": "stream",
     "text": [
      "[(1, 'x'), (4, 'l'), (9, 'Z')]\n"
     ]
    }
   ],
   "source": [
    "# Example usage:\n",
    "dna_sequence = \"AxTGlCTAGZTA\"\n",
    "invalid_positions = find_invalid_bases(dna_sequence)\n",
    "print(invalid_positions)"
   ]
  },
  {
   "cell_type": "markdown",
   "id": "f9c0358c",
   "metadata": {},
   "source": [
    "#### Counting DNA Nucleotides - ROSALIND 1"
   ]
  },
  {
   "cell_type": "code",
   "execution_count": 10,
   "id": "32b88759",
   "metadata": {},
   "outputs": [
    {
     "name": "stdout",
     "output_type": "stream",
     "text": [
      "234 221 261 269\n"
     ]
    }
   ],
   "source": [
    "def countNucFrequency(seq):\n",
    "    tmpFreqDict = {\"A\": 0, \"C\": 0, \"G\": 0, \"T\": 0}\n",
    "    for nuc in seq:\n",
    "        tmpFreqDict[nuc] += 1\n",
    "    return tmpFreqDict\n",
    "\n",
    "\n",
    "DNAstring = \"GTTAGCTCCGAATGTGATCTGGATAGCCCGCTGGTATATACGTCTATCCTACACCTTTGAGTTTGATCGAATCCCGACGTTTCAGAAGACGAGCATGATATATGAGCTTCTAGCTTCTCCCGCAGGCGAGTATTGTGGGTATGCCTGACGGGTCCTCGAGAGTCGTCGGTCATATAGTGATGGCATCAGCGTATGGCAAACCCTTATAACTCATTTAGCCGCGAGTACGAAAGGCGAAAACGCCTGATTGTTGGCCAGCGACTTGCCGCATTAGTAGCTGTAGTGATGAGTTCTCCTGTTGAAAGTCCAGTCTGTGTGTCTAACTGTTCTGTAACAGTACTTACAACGTATCGTGGGGGCATTGAAGTCAGAAATTGAAAATCTTTTCCTAGGCTTATTAAATTGGGTTGCGGTCACAAAAACGACGCTATTTGTGGTCGTATGTGTCGAATATCAGAGGTAATCGAAGTCCACGAAACGCGGGGGAGTCAAGGTCCTTCGGTCATCGTCGTTCTAGTTGCACGCTCTTAAATGAGTAGGGCGTACGTTGGTCTAGATTTGGATGTCGATGCAATCGATGGTAAACACTTTAGACTCGCTGGAGAGGCTATACTCACGCGCGCTCCGGCGGTTCAAGCCCAGGGCAAGCATACACGCGTCGGATACCGCTACGCCAGTCGAGTAACTCACCGCACGACGGCAGGAGGATGTGCCTGGTTGTATGGTAGCTGGAATATGATGAGAAAAAGATAGTTTCTGGCCATAAGGCTCCCATTGCTACATCGCGAGCACCGATGCCGCTCATCCGTAATGCAGTATTTCTCTTTTTGACTTAGGTGATAAATCTAGACGGCTTACTAAGCGGGGGGGTTCACCCTTAATCAATAAGTTTCCTCTAGCATGCCCATTTGCCGTGCTTGTTGCGTGATCTTATTTATAGGGTATACCAGGCACTGACCCCGGCAGGGGCATATCGCTGCAGATT\"\n",
    "result = countNucFrequency(DNAstring)\n",
    "print(' '.join([str(val) for key, val in result.items()]))"
   ]
  },
  {
   "cell_type": "code",
   "execution_count": 6,
   "id": "e678a494",
   "metadata": {},
   "outputs": [
    {
     "name": "stdout",
     "output_type": "stream",
     "text": [
      "234 221 261 269\n"
     ]
    }
   ],
   "source": [
    "def count_nucleotides(dna_sequence):\n",
    "    # Initialize counters for each nucleotide\n",
    "    count_a = 0\n",
    "    count_c = 0\n",
    "    count_g = 0\n",
    "    count_t = 0\n",
    "\n",
    "    # Iterate through the sequence\n",
    "    for nucleotide in dna_sequence:\n",
    "        if nucleotide == 'A':\n",
    "            count_a += 1\n",
    "        elif nucleotide == 'T':\n",
    "            count_t += 1\n",
    "        elif nucleotide == 'C':\n",
    "            count_c += 1\n",
    "        elif nucleotide == 'G':\n",
    "            count_g += 1\n",
    "\n",
    "    # Create a dictionary to store the counts\n",
    "    nucleotide_counts = {\n",
    "        'A': count_a,\n",
    "        'C': count_c,\n",
    "        'G': count_g,\n",
    "        'T': count_t \n",
    "    }\n",
    "\n",
    "    return nucleotide_counts\n",
    "\n",
    "# Example usage:\n",
    "dna_sequence = \"GTTAGCTCCGAATGTGATCTGGATAGCCCGCTGGTATATACGTCTATCCTACACCTTTGAGTTTGATCGAATCCCGACGTTTCAGAAGACGAGCATGATATATGAGCTTCTAGCTTCTCCCGCAGGCGAGTATTGTGGGTATGCCTGACGGGTCCTCGAGAGTCGTCGGTCATATAGTGATGGCATCAGCGTATGGCAAACCCTTATAACTCATTTAGCCGCGAGTACGAAAGGCGAAAACGCCTGATTGTTGGCCAGCGACTTGCCGCATTAGTAGCTGTAGTGATGAGTTCTCCTGTTGAAAGTCCAGTCTGTGTGTCTAACTGTTCTGTAACAGTACTTACAACGTATCGTGGGGGCATTGAAGTCAGAAATTGAAAATCTTTTCCTAGGCTTATTAAATTGGGTTGCGGTCACAAAAACGACGCTATTTGTGGTCGTATGTGTCGAATATCAGAGGTAATCGAAGTCCACGAAACGCGGGGGAGTCAAGGTCCTTCGGTCATCGTCGTTCTAGTTGCACGCTCTTAAATGAGTAGGGCGTACGTTGGTCTAGATTTGGATGTCGATGCAATCGATGGTAAACACTTTAGACTCGCTGGAGAGGCTATACTCACGCGCGCTCCGGCGGTTCAAGCCCAGGGCAAGCATACACGCGTCGGATACCGCTACGCCAGTCGAGTAACTCACCGCACGACGGCAGGAGGATGTGCCTGGTTGTATGGTAGCTGGAATATGATGAGAAAAAGATAGTTTCTGGCCATAAGGCTCCCATTGCTACATCGCGAGCACCGATGCCGCTCATCCGTAATGCAGTATTTCTCTTTTTGACTTAGGTGATAAATCTAGACGGCTTACTAAGCGGGGGGGTTCACCCTTAATCAATAAGTTTCCTCTAGCATGCCCATTTGCCGTGCTTGTTGCGTGATCTTATTTATAGGGTATACCAGGCACTGACCCCGGCAGGGGCATATCGCTGCAGATT\"\n",
    "counts = count_nucleotides(dna_sequence)\n",
    "print(' '.join([str(val) for key, val in counts.items()]))\n",
    "# Output: {'A': 4, 'T': 3, 'C': 2, 'G': 1}\n"
   ]
  },
  {
   "cell_type": "code",
   "execution_count": 9,
   "id": "c9af9884",
   "metadata": {},
   "outputs": [
    {
     "name": "stdout",
     "output_type": "stream",
     "text": [
      "261 269 234 221\n"
     ]
    }
   ],
   "source": [
    "from collections import Counter\n",
    "\n",
    "def count_nucleotides(dna_sequence):\n",
    "    # Use Counter to count nucleotides\n",
    "    nucleotide_counts = Counter(dna_sequence)\n",
    "    \n",
    "    # Create a dictionary from the Counter object\n",
    "    nucleotide_counts_dict = dict(nucleotide_counts)\n",
    "    \n",
    "    return nucleotide_counts_dict\n",
    "\n",
    "# Example usage:\n",
    "dna_sequence = \"GTTAGCTCCGAATGTGATCTGGATAGCCCGCTGGTATATACGTCTATCCTACACCTTTGAGTTTGATCGAATCCCGACGTTTCAGAAGACGAGCATGATATATGAGCTTCTAGCTTCTCCCGCAGGCGAGTATTGTGGGTATGCCTGACGGGTCCTCGAGAGTCGTCGGTCATATAGTGATGGCATCAGCGTATGGCAAACCCTTATAACTCATTTAGCCGCGAGTACGAAAGGCGAAAACGCCTGATTGTTGGCCAGCGACTTGCCGCATTAGTAGCTGTAGTGATGAGTTCTCCTGTTGAAAGTCCAGTCTGTGTGTCTAACTGTTCTGTAACAGTACTTACAACGTATCGTGGGGGCATTGAAGTCAGAAATTGAAAATCTTTTCCTAGGCTTATTAAATTGGGTTGCGGTCACAAAAACGACGCTATTTGTGGTCGTATGTGTCGAATATCAGAGGTAATCGAAGTCCACGAAACGCGGGGGAGTCAAGGTCCTTCGGTCATCGTCGTTCTAGTTGCACGCTCTTAAATGAGTAGGGCGTACGTTGGTCTAGATTTGGATGTCGATGCAATCGATGGTAAACACTTTAGACTCGCTGGAGAGGCTATACTCACGCGCGCTCCGGCGGTTCAAGCCCAGGGCAAGCATACACGCGTCGGATACCGCTACGCCAGTCGAGTAACTCACCGCACGACGGCAGGAGGATGTGCCTGGTTGTATGGTAGCTGGAATATGATGAGAAAAAGATAGTTTCTGGCCATAAGGCTCCCATTGCTACATCGCGAGCACCGATGCCGCTCATCCGTAATGCAGTATTTCTCTTTTTGACTTAGGTGATAAATCTAGACGGCTTACTAAGCGGGGGGGTTCACCCTTAATCAATAAGTTTCCTCTAGCATGCCCATTTGCCGTGCTTGTTGCGTGATCTTATTTATAGGGTATACCAGGCACTGACCCCGGCAGGGGCATATCGCTGCAGATT\"\n",
    "counts = count_nucleotides(dna_sequence)\n",
    "print(' '.join([str(val) for key, val in counts.items()]))\n",
    "# Output: {'A': 4, 'T': 3, 'G': 1, 'C': 2}\n"
   ]
  },
  {
   "cell_type": "markdown",
   "id": "f9e25728",
   "metadata": {},
   "source": [
    "#### Transcribing DNA into RNA - ROSALIND 2"
   ]
  },
  {
   "cell_type": "code",
   "execution_count": 12,
   "id": "30cbb950",
   "metadata": {},
   "outputs": [
    {
     "name": "stdout",
     "output_type": "stream",
     "text": [
      "RNA Sequence: CUCCGAAGCCGGCGGCUGAACCUCUAAUUUUUUCUUAUUAUGUGGGUUCGAGACGUCCGCUCAGGCCCAGACUAUAUAGUUGUCAGGUUACAAAGUGGAUUGGCAUGCUCACACGGAUAACGCGGAAGGAUUCACAGUAUGGUACUUGGUAGUCUAACGCGUUUGCUCCCGGCCGCCCCGGCCGACGCAUUCGGCUAUCUUAGCCUCGUCAGUCUCCACUCUAUUAACGUGUCAGAAGAGAGCUCUACGACUUCCAUUUGUCGGCCCAUCUCCGGGCACGUCGAUUUCACGUACGCUGCCACUUAACAGUAGUAAGAUCAUAUGAAGCGUGAAAAAUGUCUUGCUUUUUGGAUCUGAGAGUAACGCAUACUACGCAUCUAUUUUGAUCGCUACGGGCACCAACAUUUCGGGGGUAGCAUUGACGUGAAACGCCCGCCCCGUAUUCCCACGAGCUGGGCUGUGCUACGUCACCACAAAGAAGUCAUAGAUGCGAACUAACUCAAAUCGUGGUUGGACUCAAAUAAGGCAGAGGAGAUCGGUCACGAGUCUCUUUAUGACCCUACACAUUUCGAAUAAACCAAGAGACGAUGGGUCGCGUGACGCAGGUUAGCGCGUUUAGCACAUGAUGCGCCCUUGCAUGCCUAAUAUGUGUCUCCCGUUUUGUUUCCCCUGAACUUGCAAUGUCGACAUUUGCGUAACCCCCAUCUCCUCUGUAGUAGUCCGAGACCUUAUACGGCACUCCCGAACAUAGCUCUGUAGUCGUAAAGCGUGCGCAUCCUUGCUAAAUGACGCCCCACACAGGUAAGUAUCUGGAGCAAAGCCAAGGUACGCCUCAAAAUUACCGUUCGAGUGGUAUGUAAUUUGAAGUGGGACAUACGCAAAAAAUCGCGUAAAACACGA\n"
     ]
    }
   ],
   "source": [
    "dna_seq = \"CTCCGAAGCCGGCGGCTGAACCTCTAATTTTTTCTTATTATGTGGGTTCGAGACGTCCGCTCAGGCCCAGACTATATAGTTGTCAGGTTACAAAGTGGATTGGCATGCTCACACGGATAACGCGGAAGGATTCACAGTATGGTACTTGGTAGTCTAACGCGTTTGCTCCCGGCCGCCCCGGCCGACGCATTCGGCTATCTTAGCCTCGTCAGTCTCCACTCTATTAACGTGTCAGAAGAGAGCTCTACGACTTCCATTTGTCGGCCCATCTCCGGGCACGTCGATTTCACGTACGCTGCCACTTAACAGTAGTAAGATCATATGAAGCGTGAAAAATGTCTTGCTTTTTGGATCTGAGAGTAACGCATACTACGCATCTATTTTGATCGCTACGGGCACCAACATTTCGGGGGTAGCATTGACGTGAAACGCCCGCCCCGTATTCCCACGAGCTGGGCTGTGCTACGTCACCACAAAGAAGTCATAGATGCGAACTAACTCAAATCGTGGTTGGACTCAAATAAGGCAGAGGAGATCGGTCACGAGTCTCTTTATGACCCTACACATTTCGAATAAACCAAGAGACGATGGGTCGCGTGACGCAGGTTAGCGCGTTTAGCACATGATGCGCCCTTGCATGCCTAATATGTGTCTCCCGTTTTGTTTCCCCTGAACTTGCAATGTCGACATTTGCGTAACCCCCATCTCCTCTGTAGTAGTCCGAGACCTTATACGGCACTCCCGAACATAGCTCTGTAGTCGTAAAGCGTGCGCATCCTTGCTAAATGACGCCCCACACAGGTAAGTATCTGGAGCAAAGCCAAGGTACGCCTCAAAATTACCGTTCGAGTGGTATGTAATTTGAAGTGGGACATACGCAAAAAATCGCGTAAAACACGA\"\n",
    "rna_seq = dna_seq.replace('T', 'U')\n",
    "print(\"RNA Sequence:\", rna_seq)"
   ]
  },
  {
   "cell_type": "markdown",
   "id": "06d1f123",
   "metadata": {},
   "source": [
    "#### Complementing a Strand of DNA- ROSALIND 3"
   ]
  },
  {
   "cell_type": "code",
   "execution_count": 21,
   "id": "f92b1bbd",
   "metadata": {},
   "outputs": [
    {
     "name": "stdout",
     "output_type": "stream",
     "text": [
      "Reverse Sequence: ACTCGCCGTGCGCATGCTCTATAGGTGAATGTCTGGTGTGCCTCACCCCACAATAGTCCACTATGGTCCAGGATAAAACGGTCTGGTGGACTTGGGATTGTCTACAGGGATCGATTGGCTTGGGACCAAAGGAGATGCCAGATGACACTAGGACTGAGTGCAGAAAGCAGCGCCCTGAAATCGCCGATATGGTCTGGAGAATCCTTATCTCCAACAGATAGAGCTTTACGGTCAACGAGCGCCAGTGATCCGGTGCCTTTGACGGGGATATAGTCCTTTGAACCCGGGATCAAGACAACTCGGATGCTTGGTTCGCGACAAGTTATACCGCACGTGGACTTCTTTTCGCTCACATATGTGGAAACGTGATAATTCCAATACTTCGTCCCGAGACTCTATCGTTTGGACTGTAAGTGCTCTCCCTCCCTCTCACTGTCGAGGGCTTTTGATGTTGAGGGTCTAAACACCTTTCTTCCTTTCGACCCCGCGGGGGATAATCTTTAAAGCTCAATGGAACGGGCAGGCCGAATTCCAAAACCGGTTATCGCTCATAGTACATTGTTCGCTGCGGGCCAATGACTAACAGAGAAACCCACCACCCGCACGTATGGGAAAGGCCTGGTGCCAACCCATCGTCTTAACACCTAGTCTCAAAATTAATTGGCGCCTATCGGCGTGCGCAACCAAATAGTATACATATGAGTTGAGTATACGATGTCCTGGTTTTGGATGAGCGCAACTACCAGAACCCGCAATAGAGAACCGTAAGCGCGTTAATGACGGGTTGGGGTTATCTATAGCAGCGGAGAGGCCCAATATGTTCCCCTCTCGACCTGACTATACCGTATACTCCTG\n"
     ]
    }
   ],
   "source": [
    "# Complement the DNA sequence\n",
    "dna_seq = \"CAGGAGTATACGGTATAGTCAGGTCGAGAGGGGAACATATTGGGCCTCTCCGCTGCTATAGATAACCCCAACCCGTCATTAACGCGCTTACGGTTCTCTATTGCGGGTTCTGGTAGTTGCGCTCATCCAAAACCAGGACATCGTATACTCAACTCATATGTATACTATTTGGTTGCGCACGCCGATAGGCGCCAATTAATTTTGAGACTAGGTGTTAAGACGATGGGTTGGCACCAGGCCTTTCCCATACGTGCGGGTGGTGGGTTTCTCTGTTAGTCATTGGCCCGCAGCGAACAATGTACTATGAGCGATAACCGGTTTTGGAATTCGGCCTGCCCGTTCCATTGAGCTTTAAAGATTATCCCCCGCGGGGTCGAAAGGAAGAAAGGTGTTTAGACCCTCAACATCAAAAGCCCTCGACAGTGAGAGGGAGGGAGAGCACTTACAGTCCAAACGATAGAGTCTCGGGACGAAGTATTGGAATTATCACGTTTCCACATATGTGAGCGAAAAGAAGTCCACGTGCGGTATAACTTGTCGCGAACCAAGCATCCGAGTTGTCTTGATCCCGGGTTCAAAGGACTATATCCCCGTCAAAGGCACCGGATCACTGGCGCTCGTTGACCGTAAAGCTCTATCTGTTGGAGATAAGGATTCTCCAGACCATATCGGCGATTTCAGGGCGCTGCTTTCTGCACTCAGTCCTAGTGTCATCTGGCATCTCCTTTGGTCCCAAGCCAATCGATCCCTGTAGACAATCCCAAGTCCACCAGACCGTTTTATCCTGGACCATAGTGGACTATTGTGGGGTGAGGCACACCAGACATTCACCTATAGAGCATGCGCACGGCGAGT\"\n",
    "complement_dict = {'A': 'T', 'T': 'A', 'C': 'G', 'G': 'C'}\n",
    "complement_seq = ''.join(complement_dict[base] for base in dna_seq)\n",
    "#print(\"Complement Sequence:\", complement_seq)\n",
    "\n",
    "# Reverse the DNA sequence\n",
    "reverse_seq = complement_seq[::-1]\n",
    "print(\"Reverse Sequence:\", reverse_seq)"
   ]
  },
  {
   "cell_type": "code",
   "execution_count": null,
   "id": "7ec6e665",
   "metadata": {},
   "outputs": [],
   "source": []
  }
 ],
 "metadata": {
  "kernelspec": {
   "display_name": "Python 3 (ipykernel)",
   "language": "python",
   "name": "python3"
  },
  "language_info": {
   "codemirror_mode": {
    "name": "ipython",
    "version": 3
   },
   "file_extension": ".py",
   "mimetype": "text/x-python",
   "name": "python",
   "nbconvert_exporter": "python",
   "pygments_lexer": "ipython3",
   "version": "3.11.4"
  }
 },
 "nbformat": 4,
 "nbformat_minor": 5
}
